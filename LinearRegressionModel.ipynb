{
 "cells": [
  {
   "cell_type": "code",
   "execution_count": 25,
   "id": "2f417eb6-efb7-49aa-89ab-e1a7b8029d3b",
   "metadata": {},
   "outputs": [
    {
     "name": "stdout",
     "output_type": "stream",
     "text": [
      "Mean Squared Error (MSE): 0.3860\n",
      "R² Score: 0.7278\n",
      "Coefficients:\n",
      "Level of Difficulty (Out of 5): -0.1325\n",
      "Would Take Again (Percent): 2.5786\n",
      "NEU_Colleges_College of Arts, Media, and Design (CAMD): 0.0305\n",
      "NEU_Colleges_College of Engineering (COE): 0.0415\n",
      "NEU_Colleges_College of Professional Studies (CPS): 0.0343\n",
      "NEU_Colleges_College of Science (COS): -0.0292\n",
      "NEU_Colleges_College of Social Sciences and Humanities (CSSH): 0.0270\n",
      "NEU_Colleges_D’Amore-McKim School of Business (DMSB): 0.0585\n",
      "NEU_Colleges_Khoury College of Computer Sciences: -0.0778\n",
      "NEU_Colleges_School of Law: -0.1695\n",
      "Intercept: 2.3520\n"
     ]
    }
   ],
   "source": [
    "import pandas as pd\n",
    "import numpy as np\n",
    "from sklearn.model_selection import train_test_split\n",
    "#Reading the data, adding an intercept column, and getting the x and y values\n",
    "clean_data = pd.read_csv('clean_data.csv')\n",
    "clean_data_dummies = pd.get_dummies(clean_data, columns=[\"NEU_Colleges\"], drop_first=True)\n",
    "X = clean_data_dummies[[\"Level of Difficulty (Out of 5)\", \"Would Take Again (Percent)\"] + [col for col in clean_data_dummies.columns if \"NEU_Colleges_\" in col]].values.astype(float)\n",
    "y = clean_data_dummies[\"Average Rating (Out of 5)\"].values.astype(float)\n",
    "#Training and testing, had to reshape\n",
    "X_train, X_test, y_train, y_test = train_test_split(X, y, test_size=0.3, random_state=42)\n",
    "X_train_real = np.c_[np.ones(X_train.shape[0]), X_train]\n",
    "X_test_real = np.c_[np.ones(X_test.shape[0]), X_test]\n",
    "#Finding the different coefficients for the categories\n",
    "coefficients = np.linalg.inv(X_train_real.T @ X_train_real) @ X_train_real.T @ y_train\n",
    "intercept = coefficients[0]\n",
    "weights = coefficients[1:]\n",
    "y_pred = X_test_real @ coefficients\n",
    "#calculating the r2 and mse values\n",
    "square_sum = np.sum((y_test - np.mean(y_test))**2)\n",
    "square_sum_resid = np.sum((y_test - y_pred)**2)\n",
    "r2_score = 1 - (square_sum_resid / square_sum)\n",
    "mse = np.mean((y_test - y_pred)**2)\n",
    "#printing everything\n",
    "print(f\"Mean Squared Error (MSE): {mse:.4f}\")\n",
    "print(f\"R² Score: {r2_score_numpy:.4f}\")\n",
    "print(\"Coefficients:\")\n",
    "for i, col in enumerate([\"Level of Difficulty (Out of 5)\", \"Would Take Again (Percent)\"] + [col for col in clean_data_dummies.columns if \"NEU_Colleges_\" in col]):\n",
    "    print(f\"{col}: {weights[i]:.4f}\")\n",
    "print(f\"Intercept: {intercept:.4f}\")\n"
   ]
  },
  {
   "cell_type": "markdown",
   "id": "3a838dee-7faf-4a5d-9e17-eef7f1243b53",
   "metadata": {},
   "source": [
    "Ok so basically here is what the values mean, so r2 and mse are just that but the intercept is that if everything is a 0 and college isn't considered, the teacher would be a 2.3, which is around 2.5 which is what we want. For the colleges, it implies that, with all else equal, being in that college will affect the average score by that number. For the level of difficulty it means that a professors average score is -0.13 for every extra difficult level they add. FOr the would take again %, it means that for every increase in unit, the professors score will increase by 2.578. This is slightly misleading, since the real value would be 0.025786, because for example a 1% increase is really 0.01 * 2.57 not 1*2.57."
   ]
  },
  {
   "cell_type": "code",
   "execution_count": 27,
   "id": "25d64b75-5dcb-4b6d-8e5d-b852342b0081",
   "metadata": {},
   "outputs": [],
   "source": [
    "def predict_average_rating(difficulty, would_take_again, college, coefficients):\n",
    "    \"\"\"\n",
    "    Predicts the average rating based on difficulty, would-take-again percentage, and college.\n",
    "\n",
    "    Parameters:\n",
    "        difficulty (float): The level of difficulty (out of 5).\n",
    "        would_take_again (float): The percentage of students willing to take the class again (as a fraction, ex., 0.8 for 80%).\n",
    "        college (string): The name of the college (e.g., 'NEU_Colleges_Khoury College of Computer Sciences').\n",
    "        coefficients (dict): Dictionary of model coefficients, including intercept and feature weights.\n",
    "\n",
    "    Returns:\n",
    "        float: Predicted average rating.\n",
    "    \"\"\"\n",
    "    \n",
    "    prediction = coefficients[\"Intercept\"]\n",
    "    prediction += coefficients[\"Level of Difficulty (Out of 5)\"] * difficulty\n",
    "    prediction += coefficients[\"Would Take Again (Percent)\"] * would_take_again\n",
    "    college_key = f\"NEU_Colleges_{college}\"\n",
    "    if college_key in coefficients:\n",
    "        prediction += coefficients[college_key]\n",
    "    else:\n",
    "        raise ValueError(f\"Invalid college name: {college}\")\n",
    "    \n",
    "    return prediction\n"
   ]
  },
  {
   "cell_type": "code",
   "execution_count": 29,
   "id": "6c3ae05c-b2a8-4f11-a172-523a833de750",
   "metadata": {},
   "outputs": [
    {
     "name": "stdout",
     "output_type": "stream",
     "text": [
      "Predicted Average Rating: 3.9360\n"
     ]
    }
   ],
   "source": [
    "coefficients = {\n",
    "    'Level of Difficulty (Out of 5)': -0.1325,\n",
    "    'Would Take Again (Percent)': 2.5786,\n",
    "    'NEU_Colleges_College of Arts, Media, and Design (CAMD)': 0.0305,\n",
    "    'NEU_Colleges_College of Engineering (COE)': 0.0415,\n",
    "    'NEU_Colleges_College of Professional Studies (CPS)': 0.0343,\n",
    "    'NEU_Colleges_College of Science (COS)': -0.0292,\n",
    "    'NEU_Colleges_College of Social Sciences and Humanities (CSSH)': 0.0270,\n",
    "    'NEU_Colleges_D’Amore-McKim School of Business (DMSB)': 0.0585,\n",
    "    'NEU_Colleges_Khoury College of Computer Sciences': -0.0778,\n",
    "    'NEU_Colleges_School of Law': -0.1695,\n",
    "    'Intercept': 2.3520\n",
    "}\n",
    "\n",
    "predicted_rating = predict_average_rating(\n",
    "    difficulty=4.0, \n",
    "    would_take_again=0.85,\n",
    "    college=\"Khoury College of Computer Sciences\", \n",
    "    coefficients=coefficients\n",
    ")\n",
    "\n",
    "print(f\"Predicted Average Rating: {predicted_rating:.4f}\")\n"
   ]
  },
  {
   "cell_type": "code",
   "execution_count": null,
   "id": "efa572d7-c24c-4a64-a236-125eff269ff4",
   "metadata": {},
   "outputs": [],
   "source": []
  }
 ],
 "metadata": {
  "kernelspec": {
   "display_name": "Python 3 (ipykernel)",
   "language": "python",
   "name": "python3"
  },
  "language_info": {
   "codemirror_mode": {
    "name": "ipython",
    "version": 3
   },
   "file_extension": ".py",
   "mimetype": "text/x-python",
   "name": "python",
   "nbconvert_exporter": "python",
   "pygments_lexer": "ipython3",
   "version": "3.12.4"
  }
 },
 "nbformat": 4,
 "nbformat_minor": 5
}
