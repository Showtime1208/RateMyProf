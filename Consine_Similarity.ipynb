{
 "cells": [
  {
   "cell_type": "code",
   "execution_count": 30,
   "id": "eb150f4f-de96-47e6-8007-e0d6092d50d4",
   "metadata": {},
   "outputs": [],
   "source": [
    "import pandas as pd\n",
    "from sklearn.metrics.pairwise import cosine_similarity\n",
    "from sklearn.feature_extraction.text import TfidfVectorizer\n",
    "\n",
    "file_path_tfidf = \"clean_data_with_tags_comments_and_one_hot.csv\"\n",
    "tfidf_data = pd.read_csv(file_path_tfidf)"
   ]
  },
  {
   "cell_type": "code",
   "execution_count": 31,
   "id": "a6492bab-6df7-4f5f-a582-d1ec80ff9be6",
   "metadata": {},
   "outputs": [
    {
     "data": {
      "text/plain": [
       "[('Max', 0.49937324453622917),\n",
       " ('Chris', 0.49637869329867274),\n",
       " ('Mario', 0.49060635586433476),\n",
       " ('Grigorios', 0.48933110233686283),\n",
       " ('Ellen', 0.48771978937346544),\n",
       " ('Frederick', 0.47973096909279805),\n",
       " ('Sali', 0.4796892210462402),\n",
       " ('Brendan', 0.474275909764849),\n",
       " ('Cecelia', 0.47368049514750327),\n",
       " ('Robert', 0.4696452200643954)]"
      ]
     },
     "execution_count": 31,
     "metadata": {},
     "output_type": "execute_result"
    }
   ],
   "source": [
    "reviews = tfidf_data['Reviews'].fillna('')  \n",
    "\n",
    "tfidf_vectorizer = TfidfVectorizer(stop_words='english')\n",
    "tfidf_matrix = tfidf_vectorizer.fit_transform(reviews)\n",
    "\n",
    "cosine_sim = cosine_similarity(tfidf_matrix)\n",
    "\n",
    "def recommend_professors(professor_name, top_n=5):\n",
    "    # Normalize the input professor name to title case\n",
    "    professor_name = professor_name.title()\n",
    "    \n",
    "    # Check if professor exists in the dataset\n",
    "    if professor_name not in tfidf_data['First Name'].values:\n",
    "        return f\"Professor {professor_name} not found in the dataset.\"\n",
    "    \n",
    "    # Get the index of the professor in the dataframe\n",
    "    prof_index = tfidf_data[tfidf_data['First Name'] == professor_name].index[0]\n",
    "    \n",
    "    # Compute similarity scores and sort them\n",
    "    similarity_scores = list(enumerate(cosine_sim[prof_index]))\n",
    "    similarity_scores = sorted(similarity_scores, key=lambda x: x[1], reverse=True)\n",
    "    \n",
    "    # Exclude the professor themselves and retrieve top n recommendations\n",
    "    recommendations = similarity_scores[1:top_n + 1]\n",
    "    \n",
    "    # Build the output list of recommended professors\n",
    "    recommended_profs = [(tfidf_data.iloc[i[0]]['First Name'], i[1]) for i in recommendations]\n",
    "    return recommended_profs\n",
    "\n",
    "# Example: Get top 10 recommendations for a specific professor\n",
    "recommendations = recommend_professors(\"mohammad\", top_n=10)\n",
    "recommendations"
   ]
  }
 ],
 "metadata": {
  "kernelspec": {
   "display_name": "Python 3 (ipykernel)",
   "language": "python",
   "name": "python3"
  },
  "language_info": {
   "codemirror_mode": {
    "name": "ipython",
    "version": 3
   },
   "file_extension": ".py",
   "mimetype": "text/x-python",
   "name": "python",
   "nbconvert_exporter": "python",
   "pygments_lexer": "ipython3",
   "version": "3.11.7"
  }
 },
 "nbformat": 4,
 "nbformat_minor": 5
}
